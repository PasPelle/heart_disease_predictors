{
 "cells": [
  {
   "cell_type": "markdown",
   "id": "d873e91d-4863-4bf1-a309-4bacbdb10406",
   "metadata": {},
   "source": [
    "![running heart rate](run31.png)"
   ]
  },
  {
   "cell_type": "markdown",
   "id": "df167b1d-e2a5-44ad-9e1d-dc0bba2428b5",
   "metadata": {},
   "source": [
    "Millions of people develop some sort of heart disease every year, and heart disease is the biggest killer of both men and women in the United States and around the world. Statistical analysis has identified many risk factors associated with heart disease, such as age, blood pressure, total cholesterol, diabetes, hypertension, family history of heart disease, obesity, lack of physical exercise, and more.\n",
    "\n",
    "In this project, you will run statistical tests and models using the Cleveland heart disease dataset to assess one particular factor -- the maximum heart rate one can achieve during exercise and how it is associated with a higher likelihood of getting heart disease.\n",
    "\n",
    "Examining how heart rate responds to exercise along with other factors such as age, gender, the maximum heart rate achieved may reveal abnormalities that could be indicative of heart disease. Let's find out more!\n",
    "\n",
    "## The Data\n",
    "Available on `Cleveland_hd.csv`\n",
    "| Column     | Type | Description              |\n",
    "|------------|------|--------------------------|\n",
    "|`age` | continuous | age in years | \n",
    "|`sex` | discrete | 0=female 1=male |\n",
    "|`cp`| discrete | chest pain type: 1=typical angina, 2=atypical angina, 3=non-anginal pain, 4=asymptom |\n",
    "|`trestbps`| continuous | resting blood pressure (in mm Hg) |\n",
    "|`chol`| continuous | serum cholesterol in mg/dl |\n",
    "|`fbs`| discrete | fasting blood sugar>120 mg/dl: 1=true 0=False |\n",
    "|`restecg`| discrete | result of electrocardiogram while at rest are represented in 3 distinct values 0=Normal 1=having ST-T wave abnormality (T wave inversions and/or ST elevation or depression of > 0.05 mV) 2=showing probable or definite left ventricular hypertrophy Estes' criteria (Nominal) |\n",
    "|`thalach`| continuous | maximum heart rate achieved |\n",
    "|`exang`| discrete | exercise induced angina: 1=yes 0=no |\n",
    "|`oldpeak`| continuous | depression induced by exercise relative to rest |\n",
    "|`slope`| discrete | the slope of the peak exercise segment: 1=up sloping 2=flat, 3=down sloping\n",
    "|`ca`| continuous | number of major vessels colored by fluoroscopy that ranged between 0 and 3 |\n",
    "|`thal`| discrete | 3=normal 6=fixed defect 7=reversible defect |\n",
    "|`class`| discrete | diagnosis classes: 0=no presence 1=minor indicators for heart disease 2=>1 3=>2 4=major indicators for heart disease|"
   ]
  },
  {
   "cell_type": "code",
   "execution_count": 72,
   "id": "bf55d988-22d4-4f7a-a6b9-073809760776",
   "metadata": {
    "executionCancelledAt": null,
    "executionTime": 84,
    "lastExecutedAt": 1719155268634,
    "lastExecutedByKernel": "70421be6-003d-46fa-b38e-48af4236b774",
    "lastScheduledRunId": null,
    "lastSuccessfullyExecutedCode": "# Load the necessary packages\ninstall.packages(\"Metrics\")\nlibrary(tidyverse)\nlibrary(yardstick)\nlibrary(Metrics)\n\n# Load the data\nhd_data <- read.csv(\"Cleveland_hd.csv\")\n\n# Inspect the first five rows\nhead(hd_data, 5)\n\n# Start coding here...add as many cells as you like!",
    "outputsMetadata": {
     "0": {
      "height": 164,
      "type": "stream"
     },
     "1": {
      "height": 196,
      "type": "dataFrame"
     },
     "2": {
      "height": 196,
      "type": "dataFrame"
     }
    }
   },
   "outputs": [
    {
     "name": "stdout",
     "output_type": "stream",
     "text": [
      "The following package(s) will be installed:\n",
      "- Metrics [0.1.4]\n",
      "These packages will be installed into \"~/renv/library/R-4.2/x86_64-pc-linux-gnu\".\n",
      "\n",
      "# Installing packages --------------------------------------------------------\n",
      "- Installing Metrics ...                        OK [linked from cache]\n",
      "Successfully installed 1 package in 4.8 milliseconds.\n"
     ]
    },
    {
     "data": {
      "application/com.datacamp.data-table.v2+json": {
       "table": {
        "data": {
         "age": [
          63,
          67,
          67,
          37,
          41
         ],
         "ca": [
          0,
          3,
          2,
          0,
          0
         ],
         "chol": [
          233,
          286,
          229,
          250,
          204
         ],
         "class": [
          0,
          2,
          1,
          0,
          0
         ],
         "cp": [
          1,
          4,
          4,
          3,
          2
         ],
         "exang": [
          0,
          1,
          1,
          0,
          0
         ],
         "fbs": [
          1,
          0,
          0,
          0,
          0
         ],
         "index": [
          "1",
          "2",
          "3",
          "4",
          "5"
         ],
         "oldpeak": [
          2.3,
          1.5,
          2.6,
          3.5,
          1.4
         ],
         "restecg": [
          2,
          2,
          2,
          0,
          2
         ],
         "sex": [
          1,
          1,
          1,
          1,
          0
         ],
         "slope": [
          3,
          2,
          2,
          3,
          1
         ],
         "thal": [
          6,
          3,
          7,
          3,
          3
         ],
         "thalach": [
          150,
          108,
          129,
          187,
          172
         ],
         "trestbps": [
          145,
          160,
          120,
          130,
          130
         ]
        },
        "schema": {
         "fields": [
          {
           "name": "index",
           "type": "string"
          },
          {
           "name": "age",
           "type": "integer"
          },
          {
           "name": "sex",
           "type": "integer"
          },
          {
           "name": "cp",
           "type": "integer"
          },
          {
           "name": "trestbps",
           "type": "integer"
          },
          {
           "name": "chol",
           "type": "integer"
          },
          {
           "name": "fbs",
           "type": "integer"
          },
          {
           "name": "restecg",
           "type": "integer"
          },
          {
           "name": "thalach",
           "type": "integer"
          },
          {
           "name": "exang",
           "type": "integer"
          },
          {
           "name": "oldpeak",
           "type": "float"
          },
          {
           "name": "slope",
           "type": "integer"
          },
          {
           "name": "ca",
           "type": "integer"
          },
          {
           "name": "thal",
           "type": "integer"
          },
          {
           "name": "class",
           "type": "integer"
          }
         ],
         "pandas_version": "0.20.0",
         "primaryKey": [
          "index"
         ]
        }
       },
       "total_rows": 5,
       "truncation_type": null
      },
      "text/html": [
       "<table class=\"dataframe\">\n",
       "<caption>A data.frame: 5 × 14</caption>\n",
       "<thead>\n",
       "\t<tr><th></th><th scope=col>age</th><th scope=col>sex</th><th scope=col>cp</th><th scope=col>trestbps</th><th scope=col>chol</th><th scope=col>fbs</th><th scope=col>restecg</th><th scope=col>thalach</th><th scope=col>exang</th><th scope=col>oldpeak</th><th scope=col>slope</th><th scope=col>ca</th><th scope=col>thal</th><th scope=col>class</th></tr>\n",
       "\t<tr><th></th><th scope=col>&lt;int&gt;</th><th scope=col>&lt;int&gt;</th><th scope=col>&lt;int&gt;</th><th scope=col>&lt;int&gt;</th><th scope=col>&lt;int&gt;</th><th scope=col>&lt;int&gt;</th><th scope=col>&lt;int&gt;</th><th scope=col>&lt;int&gt;</th><th scope=col>&lt;int&gt;</th><th scope=col>&lt;dbl&gt;</th><th scope=col>&lt;int&gt;</th><th scope=col>&lt;int&gt;</th><th scope=col>&lt;int&gt;</th><th scope=col>&lt;int&gt;</th></tr>\n",
       "</thead>\n",
       "<tbody>\n",
       "\t<tr><th scope=row>1</th><td>63</td><td>1</td><td>1</td><td>145</td><td>233</td><td>1</td><td>2</td><td>150</td><td>0</td><td>2.3</td><td>3</td><td>0</td><td>6</td><td>0</td></tr>\n",
       "\t<tr><th scope=row>2</th><td>67</td><td>1</td><td>4</td><td>160</td><td>286</td><td>0</td><td>2</td><td>108</td><td>1</td><td>1.5</td><td>2</td><td>3</td><td>3</td><td>2</td></tr>\n",
       "\t<tr><th scope=row>3</th><td>67</td><td>1</td><td>4</td><td>120</td><td>229</td><td>0</td><td>2</td><td>129</td><td>1</td><td>2.6</td><td>2</td><td>2</td><td>7</td><td>1</td></tr>\n",
       "\t<tr><th scope=row>4</th><td>37</td><td>1</td><td>3</td><td>130</td><td>250</td><td>0</td><td>0</td><td>187</td><td>0</td><td>3.5</td><td>3</td><td>0</td><td>3</td><td>0</td></tr>\n",
       "\t<tr><th scope=row>5</th><td>41</td><td>0</td><td>2</td><td>130</td><td>204</td><td>0</td><td>2</td><td>172</td><td>0</td><td>1.4</td><td>1</td><td>0</td><td>3</td><td>0</td></tr>\n",
       "</tbody>\n",
       "</table>\n"
      ],
      "text/latex": [
       "A data.frame: 5 × 14\n",
       "\\begin{tabular}{r|llllllllllllll}\n",
       "  & age & sex & cp & trestbps & chol & fbs & restecg & thalach & exang & oldpeak & slope & ca & thal & class\\\\\n",
       "  & <int> & <int> & <int> & <int> & <int> & <int> & <int> & <int> & <int> & <dbl> & <int> & <int> & <int> & <int>\\\\\n",
       "\\hline\n",
       "\t1 & 63 & 1 & 1 & 145 & 233 & 1 & 2 & 150 & 0 & 2.3 & 3 & 0 & 6 & 0\\\\\n",
       "\t2 & 67 & 1 & 4 & 160 & 286 & 0 & 2 & 108 & 1 & 1.5 & 2 & 3 & 3 & 2\\\\\n",
       "\t3 & 67 & 1 & 4 & 120 & 229 & 0 & 2 & 129 & 1 & 2.6 & 2 & 2 & 7 & 1\\\\\n",
       "\t4 & 37 & 1 & 3 & 130 & 250 & 0 & 0 & 187 & 0 & 3.5 & 3 & 0 & 3 & 0\\\\\n",
       "\t5 & 41 & 0 & 2 & 130 & 204 & 0 & 2 & 172 & 0 & 1.4 & 1 & 0 & 3 & 0\\\\\n",
       "\\end{tabular}\n"
      ],
      "text/markdown": [
       "\n",
       "A data.frame: 5 × 14\n",
       "\n",
       "| <!--/--> | age &lt;int&gt; | sex &lt;int&gt; | cp &lt;int&gt; | trestbps &lt;int&gt; | chol &lt;int&gt; | fbs &lt;int&gt; | restecg &lt;int&gt; | thalach &lt;int&gt; | exang &lt;int&gt; | oldpeak &lt;dbl&gt; | slope &lt;int&gt; | ca &lt;int&gt; | thal &lt;int&gt; | class &lt;int&gt; |\n",
       "|---|---|---|---|---|---|---|---|---|---|---|---|---|---|---|\n",
       "| 1 | 63 | 1 | 1 | 145 | 233 | 1 | 2 | 150 | 0 | 2.3 | 3 | 0 | 6 | 0 |\n",
       "| 2 | 67 | 1 | 4 | 160 | 286 | 0 | 2 | 108 | 1 | 1.5 | 2 | 3 | 3 | 2 |\n",
       "| 3 | 67 | 1 | 4 | 120 | 229 | 0 | 2 | 129 | 1 | 2.6 | 2 | 2 | 7 | 1 |\n",
       "| 4 | 37 | 1 | 3 | 130 | 250 | 0 | 0 | 187 | 0 | 3.5 | 3 | 0 | 3 | 0 |\n",
       "| 5 | 41 | 0 | 2 | 130 | 204 | 0 | 2 | 172 | 0 | 1.4 | 1 | 0 | 3 | 0 |\n",
       "\n"
      ],
      "text/plain": [
       "  age sex cp trestbps chol fbs restecg thalach exang oldpeak slope ca thal\n",
       "1 63  1   1  145      233  1   2       150     0     2.3     3     0  6   \n",
       "2 67  1   4  160      286  0   2       108     1     1.5     2     3  3   \n",
       "3 67  1   4  120      229  0   2       129     1     2.6     2     2  7   \n",
       "4 37  1   3  130      250  0   0       187     0     3.5     3     0  3   \n",
       "5 41  0   2  130      204  0   2       172     0     1.4     1     0  3   \n",
       "  class\n",
       "1 0    \n",
       "2 2    \n",
       "3 1    \n",
       "4 0    \n",
       "5 0    "
      ]
     },
     "metadata": {},
     "output_type": "display_data"
    }
   ],
   "source": [
    "# Load the necessary packages\n",
    "install.packages(\"Metrics\")\n",
    "library(tidyverse)\n",
    "library(yardstick)\n",
    "library(Metrics)\n",
    "\n",
    "# Load the data\n",
    "hd_data <- read.csv(\"Cleveland_hd.csv\")\n",
    "\n",
    "# Inspect the first five rows\n",
    "head(hd_data, 5)\n",
    "\n",
    "# Start coding here...add as many cells as you like!"
   ]
  },
  {
   "cell_type": "code",
   "execution_count": 73,
   "id": "b3511d7a-d0f0-42de-a5c5-9fd763837ab1",
   "metadata": {
    "executionCancelledAt": null,
    "executionTime": 49,
    "lastExecutedAt": 1719155268683,
    "lastExecutedByKernel": "70421be6-003d-46fa-b38e-48af4236b774",
    "lastScheduledRunId": null,
    "lastSuccessfullyExecutedCode": "### Additional libraries ###\nlibrary(gridExtra) # Grids for plots\nlibrary(caret) # ML\nlibrary(glue) # String interpolation\nif (!requireNamespace(\"fastDummies\", quietly = TRUE)) {\n  install.packages(\"fastDummies\")\n}\nlibrary(fastDummies)",
    "outputsMetadata": {
     "0": {
      "height": 59,
      "type": "stream"
     }
    }
   },
   "outputs": [],
   "source": [
    "### Additional libraries ###\n",
    "library(gridExtra) # Grids for plots\n",
    "library(caret) # ML\n",
    "library(glue) # String interpolation\n",
    "if (!requireNamespace(\"fastDummies\", quietly = TRUE)) {\n",
    "  install.packages(\"fastDummies\")\n",
    "}\n",
    "library(fastDummies)"
   ]
  },
  {
   "cell_type": "code",
   "execution_count": 74,
   "id": "5fa92be4-2251-4874-b4b9-c0b76cd53159",
   "metadata": {
    "executionCancelledAt": null,
    "executionTime": 52,
    "lastExecutedAt": 1719155268735,
    "lastExecutedByKernel": "70421be6-003d-46fa-b38e-48af4236b774",
    "lastScheduledRunId": null,
    "lastSuccessfullyExecutedCode": "### EDA ###\n\n# Balance of sexes\ntable(hd_data[\"sex\"])"
   },
   "outputs": [
    {
     "data": {
      "text/plain": [
       "sex\n",
       "  0   1 \n",
       " 97 206 "
      ]
     },
     "metadata": {},
     "output_type": "display_data"
    }
   ],
   "source": [
    "### EDA ###\n",
    "\n",
    "# Balance of sexes\n",
    "table(hd_data[\"sex\"])"
   ]
  },
  {
   "cell_type": "code",
   "execution_count": 75,
   "id": "0bb41c44-d684-478f-a7bb-14472afb3e51",
   "metadata": {
    "executionCancelledAt": null,
    "executionTime": 56,
    "lastExecutedAt": 1719155268791,
    "lastExecutedByKernel": "70421be6-003d-46fa-b38e-48af4236b774",
    "lastScheduledRunId": null,
    "lastSuccessfullyExecutedCode": "# Adjust figure size\noptions(repr.plot.width = 4, repr.plot.height = 4)\n\n# Distribution of age\np <- ggplot(hd_data, aes(x = age)) + \n     geom_histogram(binwidth = 5, fill = \"dark green\", color = \"black\") + \n     labs(title = \"Histogram of Age\", x = \"Age\", y = \"Frequency\") + \n     theme_minimal()\n"
   },
   "outputs": [],
   "source": [
    "# Adjust figure size\n",
    "options(repr.plot.width = 4, repr.plot.height = 4)\n",
    "\n",
    "# Distribution of age\n",
    "p <- ggplot(hd_data, aes(x = age)) + \n",
    "     geom_histogram(binwidth = 5, fill = \"dark green\", color = \"black\") + \n",
    "     labs(title = \"Histogram of Age\", x = \"Age\", y = \"Frequency\") + \n",
    "     theme_minimal()\n"
   ]
  },
  {
   "cell_type": "code",
   "execution_count": 76,
   "id": "0645ec59-8c21-42b5-8996-19517fd2253e",
   "metadata": {
    "executionCancelledAt": null,
    "executionTime": 48,
    "lastExecutedAt": 1719155268839,
    "lastExecutedByKernel": "70421be6-003d-46fa-b38e-48af4236b774",
    "lastScheduledRunId": null,
    "lastSuccessfullyExecutedCode": "# Convert class column to binary and as factor\nhd_data_2 <- hd_data %>% mutate(class = as.factor(ifelse(class == 0, 0, 1)), sex = as.factor(sex))\n\n# Convert the rest of categorical features as factors\nhd_data_2 <- hd_data %>% mutate(class = as.factor(ifelse(class == 0, 0, 1)), sex = as.factor(sex))\n",
    "outputsMetadata": {
     "0": {
      "height": 221,
      "type": "dataFrame"
     }
    }
   },
   "outputs": [],
   "source": [
    "# Convert class column to binary and as factor\n",
    "hd_data_2 <- hd_data %>% mutate(class = as.factor(ifelse(class == 0, 0, 1)), sex = as.factor(sex))\n",
    "\n",
    "# Convert the rest of categorical features as factors\n",
    "hd_data_2 <- hd_data %>% mutate(class = as.factor(ifelse(class == 0, 0, 1)), sex = as.factor(sex))\n"
   ]
  },
  {
   "cell_type": "code",
   "execution_count": 77,
   "id": "b34120cc-cdd2-4fc3-88ec-5ecd09130295",
   "metadata": {
    "collapsed": true,
    "executionCancelledAt": null,
    "executionTime": 48,
    "jupyter": {
     "outputs_hidden": true,
     "source_hidden": false
    },
    "lastExecutedAt": 1719155268887,
    "lastExecutedByKernel": "70421be6-003d-46fa-b38e-48af4236b774",
    "lastScheduledRunId": null,
    "lastSuccessfullyExecutedCode": "str(hd_data_2)",
    "outputsMetadata": {
     "0": {
      "height": 279,
      "type": "stream"
     }
    }
   },
   "outputs": [
    {
     "name": "stdout",
     "output_type": "stream",
     "text": [
      "'data.frame':\t303 obs. of  14 variables:\n",
      " $ age     : int  63 67 67 37 41 56 62 57 63 53 ...\n",
      " $ sex     : Factor w/ 2 levels \"0\",\"1\": 2 2 2 2 1 2 1 1 2 2 ...\n",
      " $ cp      : int  1 4 4 3 2 2 4 4 4 4 ...\n",
      " $ trestbps: int  145 160 120 130 130 120 140 120 130 140 ...\n",
      " $ chol    : int  233 286 229 250 204 236 268 354 254 203 ...\n",
      " $ fbs     : int  1 0 0 0 0 0 0 0 0 1 ...\n",
      " $ restecg : int  2 2 2 0 2 0 2 0 2 2 ...\n",
      " $ thalach : int  150 108 129 187 172 178 160 163 147 155 ...\n",
      " $ exang   : int  0 1 1 0 0 0 0 1 0 1 ...\n",
      " $ oldpeak : num  2.3 1.5 2.6 3.5 1.4 0.8 3.6 0.6 1.4 3.1 ...\n",
      " $ slope   : int  3 2 2 3 1 1 3 1 2 3 ...\n",
      " $ ca      : int  0 3 2 0 0 0 2 0 1 0 ...\n",
      " $ thal    : int  6 3 7 3 3 3 3 3 7 7 ...\n",
      " $ class   : Factor w/ 2 levels \"0\",\"1\": 1 2 2 1 1 1 2 1 2 2 ...\n"
     ]
    }
   ],
   "source": [
    "str(hd_data_2)"
   ]
  },
  {
   "cell_type": "code",
   "execution_count": 78,
   "id": "323db73f-b80e-42a9-92e6-264b40388934",
   "metadata": {
    "collapsed": true,
    "executionCancelledAt": null,
    "executionTime": 48,
    "jupyter": {
     "outputs_hidden": true,
     "source_hidden": false
    },
    "lastExecutedAt": 1719155268935,
    "lastExecutedByKernel": "70421be6-003d-46fa-b38e-48af4236b774",
    "lastScheduledRunId": null,
    "lastSuccessfullyExecutedCode": "# Check potential missing values\n\nNA_counts <- colSums(is.na(hd_data_2))\n\nprint(NA_counts)",
    "outputsMetadata": {
     "0": {
      "height": 101,
      "type": "stream"
     }
    }
   },
   "outputs": [
    {
     "name": "stdout",
     "output_type": "stream",
     "text": [
      "     age      sex       cp trestbps     chol      fbs  restecg  thalach \n",
      "       0        0        0        0        0        0        0        0 \n",
      "   exang  oldpeak    slope       ca     thal    class \n",
      "       0        0        0        4        2        0 \n"
     ]
    }
   ],
   "source": [
    "# Check potential missing values\n",
    "\n",
    "NA_counts <- colSums(is.na(hd_data_2))\n",
    "\n",
    "print(NA_counts)"
   ]
  },
  {
   "cell_type": "markdown",
   "id": "a87cc0e1-5e04-405d-8e45-5d9e062f40c5",
   "metadata": {},
   "source": [
    "ca and thal have missing values."
   ]
  },
  {
   "cell_type": "code",
   "execution_count": 79,
   "id": "85814142-c982-4045-bad0-c8a2e6933eba",
   "metadata": {
    "executionCancelledAt": null,
    "executionTime": 48,
    "lastExecutedAt": 1719155268983,
    "lastExecutedByKernel": "70421be6-003d-46fa-b38e-48af4236b774",
    "lastScheduledRunId": null,
    "lastSuccessfullyExecutedCode": "### Check if distribution of numeric features is normal ###\n\n# Shapiro-Wilk normality test\nfor (name in names(hd_data_2)) {\n\tif (is.numeric(hd_data_2[[name]])) {\n\t\tresult <- shapiro.test(hd_data_2[[name]])\n\t\tif (result$p.value < 0.05) {\n\t\t\tprint(paste(name, \"is NOT normally distributed.\", \" p.value:\", format(result$p.value, digits = 2)))\n\t\t} else {\n\t\t\tprint(paste(name, \"is normally distributed.\", \" p.value:\", format(result$p.value, digits = 2)))\n\t\t}\n\t}\n}",
    "outputsMetadata": {
     "0": {
      "height": 269,
      "type": "stream"
     }
    }
   },
   "outputs": [
    {
     "name": "stdout",
     "output_type": "stream",
     "text": [
      "[1] \"age is NOT normally distributed.  p.value: 0.0061\"\n",
      "[1] \"cp is NOT normally distributed.  p.value: 2e-19\"\n",
      "[1] \"trestbps is NOT normally distributed.  p.value: 1.8e-06\"\n",
      "[1] \"chol is NOT normally distributed.  p.value: 5.9e-09\"\n",
      "[1] \"fbs is NOT normally distributed.  p.value: 5.4e-30\"\n",
      "[1] \"restecg is NOT normally distributed.  p.value: 1.2e-24\"\n",
      "[1] \"thalach is NOT normally distributed.  p.value: 7e-05\"\n",
      "[1] \"exang is NOT normally distributed.  p.value: 3.8e-26\"\n",
      "[1] \"oldpeak is NOT normally distributed.  p.value: 8.2e-17\"\n",
      "[1] \"slope is NOT normally distributed.  p.value: 2.6e-21\"\n",
      "[1] \"ca is NOT normally distributed.  p.value: 4e-22\"\n",
      "[1] \"thal is NOT normally distributed.  p.value: 3.4e-24\"\n"
     ]
    }
   ],
   "source": [
    "### Check if distribution of numeric features is normal ###\n",
    "\n",
    "# Shapiro-Wilk normality test\n",
    "for (name in names(hd_data_2)) {\n",
    "\tif (is.numeric(hd_data_2[[name]])) {\n",
    "\t\tresult <- shapiro.test(hd_data_2[[name]])\n",
    "\t\tif (result$p.value < 0.05) {\n",
    "\t\t\tprint(paste(name, \"is NOT normally distributed.\", \" p.value:\", format(result$p.value, digits = 2)))\n",
    "\t\t} else {\n",
    "\t\t\tprint(paste(name, \"is normally distributed.\", \" p.value:\", format(result$p.value, digits = 2)))\n",
    "\t\t}\n",
    "\t}\n",
    "}"
   ]
  },
  {
   "cell_type": "code",
   "execution_count": 80,
   "id": "749e8eb1-98a1-40ea-9784-b0253bccc343",
   "metadata": {
    "executionCancelledAt": null,
    "executionTime": null,
    "lastExecutedAt": null,
    "lastExecutedByKernel": null,
    "lastScheduledRunId": null,
    "lastSuccessfullyExecutedCode": null,
    "outputsMetadata": {
     "0": {
      "height": 80,
      "type": "stream"
     },
     "1": {
      "height": 59,
      "type": "stream"
     }
    }
   },
   "outputs": [
    {
     "name": "stdout",
     "output_type": "stream",
     "text": [
      "[1] \"age\"      \"trestbps\" \"chol\"     \"thalach\"  \"oldpeak\" \n",
      "[1] \"sex\"     \"cp\"      \"fbs\"     \"restecg\" \"exang\"   \"slope\"   \"ca\"     \n",
      "[8] \"thal\"   \n"
     ]
    }
   ],
   "source": [
    "# Make lists for continuous (numeric) and discrete (categorical) features\n",
    "numeric_features = c()\n",
    "categorical_features = c()\n",
    "\n",
    "# Loop through each column name in the dataframe\n",
    "for (name in names(hd_data_2)) { \n",
    "\t\n",
    "  # Check if the column is numeric and has more than 10 unique values\n",
    "  if (is.numeric(hd_data_2[[name]]) && length(unique(hd_data_2[[name]])) > 10) {\n",
    "\t  \n",
    "    # Append the column name to the numeric_features vector\n",
    "    numeric_features <- c(numeric_features, name)\n",
    "  } else {\n",
    "\tcategorical_features <- c(categorical_features, name)\n",
    "  }\n",
    "}\n",
    "\n",
    "# Delete class from categorical feature as it's the target\n",
    "categorical_features <- categorical_features[categorical_features != \"class\"]\n",
    "\n",
    "print(numeric_features)\n",
    "print(categorical_features)\n",
    "\n",
    "# Remove rows containing missing values\n",
    "hd_data_2 <- na.omit(hd_data_2)\n"
   ]
  },
  {
   "cell_type": "code",
   "execution_count": 88,
   "id": "10bed4bf-4031-4620-99c4-664d42c7e874",
   "metadata": {
    "executionCancelledAt": null,
    "executionTime": 639,
    "jupyter": {
     "outputs_hidden": false,
     "source_hidden": false
    },
    "lastExecutedAt": 1719155585039,
    "lastExecutedByKernel": "70421be6-003d-46fa-b38e-48af4236b774",
    "lastScheduledRunId": null,
    "lastSuccessfullyExecutedCode": "#########################################\n# Plot numeric feature vs heart disease #\n#########################################\n\n# Adjust figure size\noptions(repr.plot.width = 8, repr.plot.height = 8)\n\n# Create an empty dataframe to store numeric feature pvalues\nnumeric_feature_p_values <- data.frame(feature = character(), feature_type = character(), test = character(), p_value = numeric())\n\n# Create a list to hold all the plots\nnumeric_plots <- list()\n\n# Create a list to hold all the tests\nnumeric_tests <- list()\n\nfor (i in 1:length(numeric_features)) {\n  feature <- numeric_features[i]\n  \n  # Group by healthy vs disease and calculate means\n  hd_data_means <- hd_data_2 %>% \n    group_by(class) %>%\n    summarise(means = mean(.data[[feature]], na.rm = TRUE))\n  \n  # Bar plots and Wilcoxon test (none of the values is normally distributed)\n  plot <- ggplot(hd_data_means, aes(x = class, y = means)) + \n    geom_bar(stat = \"identity\", width = 0.5, fill = \"darkgreen\") +   \n    labs(title = paste(feature), x = \"class\", y = feature) + \n\ttheme(\n    plot.title = element_text(size = 20),      \n    axis.title.x = element_text(size = 16),    \n    axis.title.y = element_text(size = 16),   \n    axis.text.x = element_text(size = 14),            \n    axis.text.y = element_text(size = 14)            \n  )\n  \n  # print(hd_data_means)\n  \n  x1 <- hd_data_2 %>% filter(class == 0) %>% pull(feature)\n  x2 <- hd_data_2 %>% filter(class == 1) %>% pull(feature)\n  \n  test <- wilcox.test(x1, x2, paired = FALSE)\n  \n  # Store results in the dataframe\n  numeric_feature_p_values <- rbind(numeric_feature_p_values, data.frame(feature = feature, feature_type = \"numeric\", test = \"Wilcoxon\", p_value = test$p.value))\n  \n  # Add the plot and test to the lists\n  numeric_plots[[i]] <- plot\n  numeric_tests[[i]] <- test\n  \n}\n\n# Create a grid of plots\ngrid.arrange(grobs = numeric_plots, ncol = 3)\n\n# Print results\nprint(numeric_feature_p_values)",
    "outputsMetadata": {
     "0": {
      "height": 143,
      "type": "stream"
     },
     "1": {
      "height": 143,
      "type": "stream"
     }
    }
   },
   "outputs": [
    {
     "name": "stdout",
     "output_type": "stream",
     "text": [
      "   feature feature_type     test      p_value\n",
      "1      age      numeric Wilcoxon 3.672541e-05\n",
      "2 trestbps      numeric Wilcoxon 2.345960e-02\n",
      "3     chol      numeric Wilcoxon 4.668918e-02\n",
      "4  thalach      numeric Wilcoxon 1.675290e-13\n",
      "5  oldpeak      numeric Wilcoxon 1.538610e-12\n"
     ]
    },
    {
     "data": {
      "image/png": "[encoded data removed]",
      "text/plain": [
       "plot without title"
      ]
     },
     "metadata": {
      "image/png": {
       "height": 480,
       "width": 480
      }
     },
     "output_type": "display_data"
    }
   ],
   "source": [
    "#########################################\n",
    "# Plot numeric feature vs heart disease #\n",
    "#########################################\n",
    "\n",
    "# Adjust figure size\n",
    "options(repr.plot.width = 8, repr.plot.height = 8)\n",
    "\n",
    "# Create an empty dataframe to store numeric feature pvalues\n",
    "numeric_feature_p_values <- data.frame(feature = character(), feature_type = character(), test = character(), p_value = numeric())\n",
    "\n",
    "# Create a list to hold all the plots\n",
    "numeric_plots <- list()\n",
    "\n",
    "# Create a list to hold all the tests\n",
    "numeric_tests <- list()\n",
    "\n",
    "for (i in 1:length(numeric_features)) {\n",
    "  feature <- numeric_features[i]\n",
    "  \n",
    "  # Group by healthy vs disease and calculate means\n",
    "  hd_data_means <- hd_data_2 %>% \n",
    "    group_by(class) %>%\n",
    "    summarise(means = mean(.data[[feature]], na.rm = TRUE))\n",
    "  \n",
    "  # Bar plots and Wilcoxon test (none of the values is normally distributed)\n",
    "  plot <- ggplot(hd_data_means, aes(x = class, y = means)) + \n",
    "    geom_bar(stat = \"identity\", width = 0.5, fill = \"darkgreen\") +   \n",
    "    labs(title = paste(feature), x = \"class\", y = feature) + \n",
    "\ttheme(\n",
    "    plot.title = element_text(size = 20),      \n",
    "    axis.title.x = element_text(size = 16),    \n",
    "    axis.title.y = element_text(size = 16),   \n",
    "    axis.text.x = element_text(size = 14),            \n",
    "    axis.text.y = element_text(size = 14)            \n",
    "  )\n",
    "  \n",
    "  # print(hd_data_means)\n",
    "  \n",
    "  x1 <- hd_data_2 %>% filter(class == 0) %>% pull(feature)\n",
    "  x2 <- hd_data_2 %>% filter(class == 1) %>% pull(feature)\n",
    "  \n",
    "  test <- wilcox.test(x1, x2, paired = FALSE)\n",
    "  \n",
    "  # Store results in the dataframe\n",
    "  numeric_feature_p_values <- rbind(numeric_feature_p_values, data.frame(feature = feature, feature_type = \"numeric\", test = \"Wilcoxon\", p_value = test$p.value))\n",
    "  \n",
    "  # Add the plot and test to the lists\n",
    "  numeric_plots[[i]] <- plot\n",
    "  numeric_tests[[i]] <- test\n",
    "  \n",
    "}\n",
    "\n",
    "# Create a grid of plots\n",
    "grid.arrange(grobs = numeric_plots, ncol = 3)\n",
    "\n",
    "# Print results\n",
    "print(numeric_feature_p_values)"
   ]
  },
  {
   "cell_type": "code",
   "execution_count": 82,
   "id": "6ab0dde6-9573-4235-9faf-4aa073164fbb",
   "metadata": {
    "executionCancelledAt": null,
    "executionTime": 1285,
    "jupyter": {
     "outputs_hidden": false,
     "source_hidden": false
    },
    "lastExecutedAt": 1719155270941,
    "lastExecutedByKernel": "70421be6-003d-46fa-b38e-48af4236b774",
    "lastScheduledRunId": null,
    "lastSuccessfullyExecutedCode": "#############################################\n# Plot categorical feature vs heart disease #\n#############################################\n\n# Adjust figure size\noptions(repr.plot.width = 10, repr.plot.height = 10)\n\n# Create an empty dataframe to store categorical feature pvalues\ncategorical_feature_p_values <- data.frame(feature = character(), feature_type = character(), test = character(), p_value = numeric())\n\n# Create a list to hold all the plots and tests\ncategrorical_plots <- list()\ncategorical_tests <- list()\n\n# Create a grouped bar plot for each categorical feature\nfor (i in 1:length(categorical_features)) {\n\tfeature <- categorical_features[i]\n \n\t# Make a grouped bar plot\n    cat_plot <- ggplot(hd_data_2, aes(x = factor(class), fill = factor(.data[[feature]]))) + \n\tgeom_bar(position = \"dodge\") + \n\tlabs(title = paste(feature), x = \"class\", y = \"count\") + \n    theme_minimal() +\n\tscale_fill_discrete(name = feature) + \n\ttheme(\n    plot.title = element_text(size = 20),      \n    axis.title.x = element_text(size = 16),    \n    axis.title.y = element_text(size = 16),    \n    axis.text.x = element_text(size = 14),                    \n    axis.text.y = element_text(size = 14),                    \n    legend.title = element_text(size = 16),    \n    legend.text = element_text(size = 14)                     \n  )\n\t\n\t# Chi-square test\n\tchisq_test <- chisq.test(hd_data_2$class, hd_data_2[[feature]])\n\t\n\t# Store results in the dataframe\n\tcategorical_feature_p_values <- rbind(categorical_feature_p_values, data.frame(feature = feature, feature_type = \"categorical\", test = \"Chi-square\", p_value = chisq_test$p.value))\n\t\n\t# Add the plot and test to the lists\n  \tcategrorical_plots[[i]] <- cat_plot\n\tcategorical_tests[[i]] <- chisq_test\n\t\n}\n\n# Create a grid of plots\ngrid.arrange(grobs = categrorical_plots, ncol = 3)\n\n# Print results\nprint(categorical_feature_p_values)",
    "outputsMetadata": {
     "0": {
      "height": 59,
      "type": "stream"
     },
     "1": {
      "height": 206,
      "type": "stream"
     },
     "10": {
      "height": 80,
      "type": "stream"
     },
     "11": {
      "height": 80,
      "type": "stream"
     },
     "12": {
      "height": 80,
      "type": "stream"
     },
     "13": {
      "height": 143,
      "type": "stream"
     },
     "14": {
      "height": 80,
      "type": "stream"
     },
     "15": {
      "height": 465,
      "type": "stream"
     },
     "16": {
      "height": 143,
      "type": "stream"
     },
     "17": {
      "height": 80,
      "type": "stream"
     },
     "18": {
      "height": 59,
      "type": "stream"
     },
     "19": {
      "height": 143,
      "type": "stream"
     },
     "2": {
      "height": 80,
      "type": "stream"
     },
     "20": {
      "height": 80,
      "type": "stream"
     },
     "22": {
      "height": 143,
      "type": "stream"
     },
     "24": {
      "height": 465,
      "type": "stream"
     },
     "3": {
      "height": 38,
      "type": "stream"
     },
     "4": {
      "height": 80,
      "type": "stream"
     },
     "5": {
      "height": 80,
      "type": "stream"
     },
     "6": {
      "height": 80,
      "type": "stream"
     },
     "7": {
      "height": 143,
      "type": "stream"
     },
     "8": {
      "height": 465,
      "type": "stream"
     },
     "9": {
      "height": 38,
      "type": "stream"
     }
    }
   },
   "outputs": [
    {
     "name": "stderr",
     "output_type": "stream",
     "text": [
      "Warning message in chisq.test(hd_data_2$class, hd_data_2[[feature]]):\n",
      "“Chi-squared approximation may be incorrect”\n"
     ]
    },
    {
     "name": "stdout",
     "output_type": "stream",
     "text": [
      "  feature feature_type       test      p_value\n",
      "1     sex  categorical Chi-square 2.945690e-06\n",
      "2      cp  categorical Chi-square 1.178284e-16\n",
      "3     fbs  categorical Chi-square 1.000000e+00\n",
      "4 restecg  categorical Chi-square 8.331151e-03\n",
      "5   exang  categorical Chi-square 9.510884e-13\n",
      "6   slope  categorical Chi-square 3.630107e-10\n",
      "7      ca  categorical Chi-square 1.372578e-15\n",
      "8    thal  categorical Chi-square 1.241673e-18\n"
     ]
    },
    {
     "data": {
      "image/png": "[encoded data removed]",
      "text/plain": [
       "plot without title"
      ]
     },
     "metadata": {
      "image/png": {
       "height": 600,
       "width": 600
      }
     },
     "output_type": "display_data"
    }
   ],
   "source": [
    "#############################################\n",
    "# Plot categorical feature vs heart disease #\n",
    "#############################################\n",
    "\n",
    "# Adjust figure size\n",
    "options(repr.plot.width = 10, repr.plot.height = 10)\n",
    "\n",
    "# Create an empty dataframe to store categorical feature pvalues\n",
    "categorical_feature_p_values <- data.frame(feature = character(), feature_type = character(), test = character(), p_value = numeric())\n",
    "\n",
    "# Create a list to hold all the plots and tests\n",
    "categrorical_plots <- list()\n",
    "categorical_tests <- list()\n",
    "\n",
    "# Create a grouped bar plot for each categorical feature\n",
    "for (i in 1:length(categorical_features)) {\n",
    "\tfeature <- categorical_features[i]\n",
    " \n",
    "\t# Make a grouped bar plot\n",
    "    cat_plot <- ggplot(hd_data_2, aes(x = factor(class), fill = factor(.data[[feature]]))) + \n",
    "\tgeom_bar(position = \"dodge\") + \n",
    "\tlabs(title = paste(feature), x = \"class\", y = \"count\") + \n",
    "    theme_minimal() +\n",
    "\tscale_fill_discrete(name = feature) + \n",
    "\ttheme(\n",
    "    plot.title = element_text(size = 20),      \n",
    "    axis.title.x = element_text(size = 16),    \n",
    "    axis.title.y = element_text(size = 16),    \n",
    "    axis.text.x = element_text(size = 14),                    \n",
    "    axis.text.y = element_text(size = 14),                    \n",
    "    legend.title = element_text(size = 16),    \n",
    "    legend.text = element_text(size = 14)                     \n",
    "  )\n",
    "\t\n",
    "\t# Chi-square test\n",
    "\tchisq_test <- chisq.test(hd_data_2$class, hd_data_2[[feature]])\n",
    "\t\n",
    "\t# Store results in the dataframe\n",
    "\tcategorical_feature_p_values <- rbind(categorical_feature_p_values, data.frame(feature = feature, feature_type = \"categorical\", test = \"Chi-square\", p_value = chisq_test$p.value))\n",
    "\t\n",
    "\t# Add the plot and test to the lists\n",
    "  \tcategrorical_plots[[i]] <- cat_plot\n",
    "\tcategorical_tests[[i]] <- chisq_test\n",
    "\t\n",
    "}\n",
    "\n",
    "# Create a grid of plots\n",
    "grid.arrange(grobs = categrorical_plots, ncol = 3)\n",
    "\n",
    "# Print results\n",
    "print(categorical_feature_p_values)"
   ]
  },
  {
   "cell_type": "code",
   "execution_count": 84,
   "id": "38f1adf7-5b0c-4c4b-a245-02594e9e6839",
   "metadata": {
    "executionCancelledAt": null,
    "executionTime": 48,
    "jupyter": {
     "outputs_hidden": false,
     "source_hidden": false
    },
    "lastExecutedAt": 1719155271227,
    "lastExecutedByKernel": "70421be6-003d-46fa-b38e-48af4236b774",
    "lastScheduledRunId": null,
    "lastSuccessfullyExecutedCode": "### Select the top 3 predictors related to heart disease ###\n\n# Create one dataframe for both numeric and categorical feature\nfeature_p_values <- rbind(numeric_feature_p_values, categorical_feature_p_values)\n\n# Sort feature_p_values by p-value\nfeature_p_values <- feature_p_values[order(feature_p_values$p_value),]\n\n# Create an empty list to store the top 3 predictors related to heart disease\nhighly_significant <- character()\n\n# Add the top 3 feature names to the list\nfor (i in 1:3) {\n  highly_significant[i] <- feature_p_values[i, \"feature\"]\n}\n\nprint(paste(\"Top 3 features related to heart disease: \", toString(highly_significant)))",
    "outputsMetadata": {
     "0": {
      "height": 38,
      "type": "stream"
     }
    }
   },
   "outputs": [
    {
     "name": "stdout",
     "output_type": "stream",
     "text": [
      "[1] \"Top 3 features related to heart disease:  thal, cp, ca\"\n"
     ]
    }
   ],
   "source": [
    "### Select the top 3 predictors related to heart disease ###\n",
    "\n",
    "# Create one dataframe for both numeric and categorical feature\n",
    "feature_p_values <- rbind(numeric_feature_p_values, categorical_feature_p_values)\n",
    "\n",
    "# Sort feature_p_values by p-value\n",
    "feature_p_values <- feature_p_values[order(feature_p_values$p_value),]\n",
    "\n",
    "# Create an empty list to store the top 3 predictors related to heart disease\n",
    "highly_significant <- character()\n",
    "\n",
    "# Add the top 3 feature names to the list\n",
    "for (i in 1:3) {\n",
    "  highly_significant[i] <- feature_p_values[i, \"feature\"]\n",
    "}\n",
    "\n",
    "print(paste(\"Top 3 features related to heart disease: \", toString(highly_significant)))"
   ]
  },
  {
   "cell_type": "code",
   "execution_count": 85,
   "id": "1dded6b6-9a1f-43a1-a071-0ba5fe136840",
   "metadata": {
    "executionCancelledAt": null,
    "executionTime": 223,
    "lastExecutedAt": 1719155271450,
    "lastExecutedByKernel": "70421be6-003d-46fa-b38e-48af4236b774",
    "lastScheduledRunId": null,
    "lastSuccessfullyExecutedCode": "#######################\n# Logistic regression #\n#######################\n\n# Select top 3 columns from df that are highly_significant\ndf <- hd_data_2 %>% select(all_of(c(highly_significant, \"class\")))\n\n# One hot encoding\ndf <- dummy_cols(df, select_columns = highly_significant, remove_selected_columns = TRUE)\n\n# Define X and y\nX <- select(df, -class)\ny <- df$class\n\n# Train-Test split\nset.seed(42)\ntrain_index <- createDataPartition(y, p = 0.7, list = FALSE)\nX_train <- X[train_index, ]\ny_train <- y[train_index]\nX_test <- X[-train_index, ]\ny_test <- y[-train_index]\n\n# Fit logistic regression model\nmodel <- glm(y_train ~., data = X_train, family = binomial)\n\n# Make predictions\npredictions <- predict(model, newdata = X_test, type = \"response\")\npredicted_classes <- ifelse(predictions > 0.5, 1, 0)\n\n# Convert predictions and y_test to factors\npredicted_classes <- as.factor(predicted_classes)\ny_test_factor <- as.factor(y_test)\n\n# Evaluate the model\naccuracy <- mean(predicted_classes == y_test_factor)\nprint(glue(\"Accuracy: {accuracy * 100}%\"))\n\n# Convert highly_significant to a list for final evaluation\nhighly_significant <- as.list(highly_significant)\n\n# Detailed performance metrics\nconfusion <- confusionMatrix(predicted_classes, y_test_factor)\n\n# Plot the confusion matrix\noptions(repr.plot.width = 4, repr.plot.height = 4)\n\ndf_conf_mat <- as.data.frame(confusion$table)\n\nggplot(df_conf_mat, aes(x = Reference, y = Prediction, fill = Freq)) +\n  geom_tile() +\n  geom_text(aes(label = Freq), color = \"white\", size = 12) +\n  scale_fill_gradient(low = \"#D3D3D3\", high = \"#0073C2\") +\n  labs(x = \"Reference\", y = \"Prediction\", title = \"Confusion Matrix\") +\n  theme_minimal()\n\n",
    "outputsMetadata": {
     "0": {
      "height": 59,
      "type": "stream"
     },
     "1": {
      "height": 38,
      "type": "stream"
     },
     "2": {
      "height": 101,
      "type": "stream"
     }
    }
   },
   "outputs": [
    {
     "name": "stderr",
     "output_type": "stream",
     "text": [
      "Warning message in predict.lm(object, newdata, se.fit, scale = 1, type = if (type == :\n",
      "“prediction from a rank-deficient fit may be misleading”\n"
     ]
    },
    {
     "name": "stdout",
     "output_type": "stream",
     "text": [
      "Accuracy: 83.1460674157303%\n"
     ]
    },
    {
     "data": {
      "image/png": "[encoded data removed]",
      "text/plain": [
       "plot without title"
      ]
     },
     "metadata": {
      "image/png": {
       "height": 240,
       "width": 240
      }
     },
     "output_type": "display_data"
    }
   ],
   "source": [
    "#######################\n",
    "# Logistic regression #\n",
    "#######################\n",
    "\n",
    "# Select top 3 columns from df that are highly_significant\n",
    "df <- hd_data_2 %>% select(all_of(c(highly_significant, \"class\")))\n",
    "\n",
    "# One hot encoding\n",
    "df <- dummy_cols(df, select_columns = highly_significant, remove_selected_columns = TRUE)\n",
    "\n",
    "# Define X and y\n",
    "X <- select(df, -class)\n",
    "y <- df$class\n",
    "\n",
    "# Train-Test split\n",
    "set.seed(42)\n",
    "train_index <- createDataPartition(y, p = 0.7, list = FALSE)\n",
    "X_train <- X[train_index, ]\n",
    "y_train <- y[train_index]\n",
    "X_test <- X[-train_index, ]\n",
    "y_test <- y[-train_index]\n",
    "\n",
    "# Fit logistic regression model\n",
    "model <- glm(y_train ~., data = X_train, family = binomial)\n",
    "\n",
    "# Make predictions\n",
    "predictions <- predict(model, newdata = X_test, type = \"response\")\n",
    "predicted_classes <- ifelse(predictions > 0.5, 1, 0)\n",
    "\n",
    "# Convert predictions and y_test to factors\n",
    "predicted_classes <- as.factor(predicted_classes)\n",
    "y_test_factor <- as.factor(y_test)\n",
    "\n",
    "# Evaluate the model\n",
    "accuracy <- mean(predicted_classes == y_test_factor)\n",
    "print(glue(\"Accuracy: {accuracy * 100}%\"))\n",
    "\n",
    "# Convert highly_significant to a list for final evaluation\n",
    "highly_significant <- as.list(highly_significant)\n",
    "\n",
    "# Detailed performance metrics\n",
    "confusion <- confusionMatrix(predicted_classes, y_test_factor)\n",
    "\n",
    "# Plot the confusion matrix\n",
    "options(repr.plot.width = 4, repr.plot.height = 4)\n",
    "\n",
    "df_conf_mat <- as.data.frame(confusion$table)\n",
    "\n",
    "ggplot(df_conf_mat, aes(x = Reference, y = Prediction, fill = Freq)) +\n",
    "  geom_tile() +\n",
    "  geom_text(aes(label = Freq), color = \"white\", size = 12) +\n",
    "  scale_fill_gradient(low = \"#D3D3D3\", high = \"#0073C2\") +\n",
    "  labs(x = \"Reference\", y = \"Prediction\", title = \"Confusion Matrix\") +\n",
    "  theme_minimal()\n",
    "\n"
   ]
  }
 ],
 "metadata": {
  "colab": {
   "name": "Welcome to DataCamp Workspaces.ipynb",
   "provenance": []
  },
  "editor": "DataCamp Workspace",
  "kernelspec": {
   "display_name": "R",
   "language": "R",
   "name": "ir"
  },
  "language_info": {
   "codemirror_mode": "r",
   "file_extension": ".r",
   "mimetype": "text/x-r-source",
   "name": "R",
   "pygments_lexer": "r",
   "version": "4.2.1"
  },
  "toc": {
   "base_numbering": 1,
   "nav_menu": {},
   "number_sections": true,
   "sideBar": true,
   "skip_h1_title": false,
   "title_cell": "Table of Contents",
   "title_sidebar": "Contents",
   "toc_cell": false,
   "toc_position": {},
   "toc_section_display": true,
   "toc_window_display": false
  }
 },
 "nbformat": 4,
 "nbformat_minor": 5
}
